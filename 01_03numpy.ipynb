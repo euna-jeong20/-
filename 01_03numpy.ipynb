{
  "nbformat": 4,
  "nbformat_minor": 0,
  "metadata": {
    "colab": {
      "name": "01-03numpy.ipynb",
      "provenance": [],
      "collapsed_sections": [],
      "authorship_tag": "ABX9TyMF9R53zichgb8jYSJsRgcy",
      "include_colab_link": true
    },
    "kernelspec": {
      "name": "python3",
      "display_name": "Python 3"
    },
    "language_info": {
      "name": "python"
    }
  },
  "cells": [
    {
      "cell_type": "markdown",
      "metadata": {
        "id": "view-in-github",
        "colab_type": "text"
      },
      "source": [
        "<a href=\"https://colab.research.google.com/github/euna-jeong20/ML/blob/main/01_03numpy.ipynb\" target=\"_parent\"><img src=\"https://colab.research.google.com/assets/colab-badge.svg\" alt=\"Open In Colab\"/></a>"
      ]
    },
    {
      "cell_type": "code",
      "metadata": {
        "id": "2w3xRWT-SSLx"
      },
      "source": [
        "import numpy as np"
      ],
      "execution_count": null,
      "outputs": []
    },
    {
      "cell_type": "code",
      "metadata": {
        "colab": {
          "base_uri": "https://localhost:8080/"
        },
        "id": "Uq4e1pPvVviT",
        "outputId": "b06ece4f-f5c8-4c79-fe8f-87ffaf47f42e"
      },
      "source": [
        "array1 = np.array([1, 2, 3])\n",
        "print('array1의 type:', type(array1))\n",
        "print('array1 array 형태:', array1.shape)\n",
        "\n",
        "array2 = np.array([[1, 2, 3],\n",
        "                   [2, 3, 4]])\n",
        "print('array2의 type:', type(array2))\n",
        "print('array2 array 형태:', array2.shape)\n",
        "\n",
        "array3 = np.array([[1, 2, 3]])\n",
        "print('array3의 type:', type(array3))\n",
        "print('array3 array 형태:', array3.shape)"
      ],
      "execution_count": null,
      "outputs": [
        {
          "output_type": "stream",
          "name": "stdout",
          "text": [
            "array1의 type: <class 'numpy.ndarray'>\n",
            "array1 array 형태: (3,)\n",
            "array2의 type: <class 'numpy.ndarray'>\n",
            "array2 array 형태: (2, 3)\n",
            "array3의 type: <class 'numpy.ndarray'>\n",
            "array3 array 형태: (1, 3)\n"
          ]
        }
      ]
    },
    {
      "cell_type": "code",
      "metadata": {
        "colab": {
          "base_uri": "https://localhost:8080/"
        },
        "id": "UarJBE81WAkN",
        "outputId": "3e5ec02f-cd91-46f0-cdb2-ad55f5e6c409"
      },
      "source": [
        "print('array1 : {:0}차원, array2 : {:1}차원, array3 : {:2}차원'.format(array1.ndim, array2.ndim, array3.ndim))"
      ],
      "execution_count": null,
      "outputs": [
        {
          "output_type": "stream",
          "name": "stdout",
          "text": [
            "array1 : 1차원, array2 : 2차원, array3 :  2차원\n"
          ]
        }
      ]
    },
    {
      "cell_type": "code",
      "metadata": {
        "colab": {
          "base_uri": "https://localhost:8080/"
        },
        "id": "eGNthz4OXof-",
        "outputId": "b5bfbbcc-3eb6-4659-fd55-896b88375f97"
      },
      "source": [
        "#리스트 -> numpy array 할 수 있다.\n",
        "\n",
        "list1 = [1, 2, 3]\n",
        "print(type(list1))\n",
        "\n",
        "array1 = np.array(list1)\n",
        "print(type(array1))\n",
        "print(array1, array1.dtype)"
      ],
      "execution_count": null,
      "outputs": [
        {
          "output_type": "stream",
          "name": "stdout",
          "text": [
            "<class 'list'>\n",
            "<class 'numpy.ndarray'>\n",
            "[1 2 3] int64\n"
          ]
        }
      ]
    },
    {
      "cell_type": "markdown",
      "metadata": {
        "id": "xKsYfuqBYhwC"
      },
      "source": [
        "* 리스트는 서로 다른 데이터 타입을 가질 수 있지만 ndarray내는 (연산을 위해)같은 데이터 타입만 가능하다.\n",
        "\n",
        "* 만약 다른 데이터 유형이 섞여 있는 리스트를 ndarray로 변경하면 데이터 크기가 더 큰 데이터 타입으로 형 변환을 일괄 적용한다."
      ]
    },
    {
      "cell_type": "code",
      "metadata": {
        "colab": {
          "base_uri": "https://localhost:8080/"
        },
        "id": "t_b7rs3NYL7O",
        "outputId": "bd8a29bd-2790-4cee-acda-4a6b4232cb60"
      },
      "source": [
        "list2 = [1, 2, 'test']\n",
        "array2 = np.array(list2)\n",
        "print(array2, array2.dtype)\n",
        "\n",
        "list3 = [1, 2, 3.0]\n",
        "array3 = np.array(list3)\n",
        "print(array3, array3.dtype)"
      ],
      "execution_count": null,
      "outputs": [
        {
          "output_type": "stream",
          "name": "stdout",
          "text": [
            "['1' '2' 'test'] <U21\n",
            "[1. 2. 3.] float64\n"
          ]
        }
      ]
    },
    {
      "cell_type": "code",
      "metadata": {
        "colab": {
          "base_uri": "https://localhost:8080/"
        },
        "id": "iFzKTisTZVPI",
        "outputId": "171d7681-b142-452b-bb5b-f5461d022678"
      },
      "source": [
        "array_int = np.array([1, 2, 3])\n",
        "array_float = array_int.astype('float64')\n",
        "print(array_float, array_float.dtype)\n",
        "\n",
        "array_int1 = array_float.astype('int32')\n",
        "print(array_int1, array_int1.dtype)\n",
        "\n",
        "array_float1 = np.array([1.1, 2.1, 3.1])\n",
        "array_int2 = array_float1.astype('int32')\n",
        "print(array_int, array_int.dtype)"
      ],
      "execution_count": null,
      "outputs": [
        {
          "output_type": "stream",
          "name": "stdout",
          "text": [
            "[1. 2. 3.] float64\n",
            "[1 2 3] int32\n",
            "[1 2 3] int64\n"
          ]
        }
      ]
    },
    {
      "cell_type": "code",
      "metadata": {
        "colab": {
          "base_uri": "https://localhost:8080/"
        },
        "id": "Bo-IXGwqaVfu",
        "outputId": "7cc673f4-14f7-4cc5-ddd7-5d80e26b89a5"
      },
      "source": [
        "seq_array = np.arange(10)\n",
        "print(seq_array)\n",
        "print(seq_array.dtype, seq_array.shape)"
      ],
      "execution_count": null,
      "outputs": [
        {
          "output_type": "stream",
          "name": "stdout",
          "text": [
            "[0 1 2 3 4 5 6 7 8 9]\n",
            "int64 (10,)\n"
          ]
        }
      ]
    },
    {
      "cell_type": "code",
      "metadata": {
        "colab": {
          "base_uri": "https://localhost:8080/"
        },
        "id": "7Qasrwjwb0Pe",
        "outputId": "d3af99b2-fa63-4845-c6bd-e4a82f8de97e"
      },
      "source": [
        "seq_array = np.arange(100, 105)\n",
        "seq_array"
      ],
      "execution_count": null,
      "outputs": [
        {
          "output_type": "execute_result",
          "data": {
            "text/plain": [
              "array([100, 101, 102, 103, 104])"
            ]
          },
          "metadata": {},
          "execution_count": 16
        }
      ]
    },
    {
      "cell_type": "code",
      "metadata": {
        "colab": {
          "base_uri": "https://localhost:8080/"
        },
        "id": "Mv-65AircBhi",
        "outputId": "4c598173-bfed-4b8e-c4d1-ce79ae173442"
      },
      "source": [
        "seq_array = np.arange(707, 1000, 100)\n",
        "seq_array"
      ],
      "execution_count": null,
      "outputs": [
        {
          "output_type": "execute_result",
          "data": {
            "text/plain": [
              "array([707, 807, 907])"
            ]
          },
          "metadata": {},
          "execution_count": 18
        }
      ]
    },
    {
      "cell_type": "code",
      "metadata": {
        "colab": {
          "base_uri": "https://localhost:8080/"
        },
        "id": "qM2zLQxHcx5p",
        "outputId": "eac0c343-8466-4812-87bc-4cd8dc394309"
      },
      "source": [
        "zero_array = np.zeros((3,2), dtype='int32')\n",
        "print(zero_array)\n",
        "print(zero_array.dtype, zero_array.shape)\n",
        "\n",
        "one_array = np.ones((3,2))\n",
        "print(one_array)\n",
        "print(one_array.dtype, one_array.shape)"
      ],
      "execution_count": null,
      "outputs": [
        {
          "output_type": "stream",
          "name": "stdout",
          "text": [
            "[[0 0]\n",
            " [0 0]\n",
            " [0 0]]\n",
            "int32 (3, 2)\n",
            "[[1. 1.]\n",
            " [1. 1.]\n",
            " [1. 1.]]\n",
            "float64 (3, 2)\n"
          ]
        }
      ]
    },
    {
      "cell_type": "code",
      "metadata": {
        "colab": {
          "base_uri": "https://localhost:8080/"
        },
        "id": "wMquNT5edO39",
        "outputId": "01e317d8-1cb0-49b2-8d75-c4dcc33c9732"
      },
      "source": [
        "array1 = np.arange(10)\n",
        "print('array1:\\n', array1)\n",
        "print(array1.shape)"
      ],
      "execution_count": null,
      "outputs": [
        {
          "output_type": "stream",
          "name": "stdout",
          "text": [
            "array1:\n",
            " [0 1 2 3 4 5 6 7 8 9]\n",
            "(10,)\n"
          ]
        }
      ]
    },
    {
      "cell_type": "code",
      "metadata": {
        "colab": {
          "base_uri": "https://localhost:8080/"
        },
        "id": "6nmfdv_Sesru",
        "outputId": "0b980ae9-55c7-4b10-ea28-3e493bdc7748"
      },
      "source": [
        "array2 = array1.reshape(2,5)\n",
        "array2"
      ],
      "execution_count": null,
      "outputs": [
        {
          "output_type": "execute_result",
          "data": {
            "text/plain": [
              "array([[0, 1, 2, 3, 4],\n",
              "       [5, 6, 7, 8, 9]])"
            ]
          },
          "metadata": {},
          "execution_count": 21
        }
      ]
    },
    {
      "cell_type": "code",
      "metadata": {
        "colab": {
          "base_uri": "https://localhost:8080/"
        },
        "id": "pzYXUBCeexq3",
        "outputId": "170865d2-6aa3-4699-adc6-602ec43c2a44"
      },
      "source": [
        "array3 = array1.reshape(10,1)\n",
        "array3"
      ],
      "execution_count": null,
      "outputs": [
        {
          "output_type": "execute_result",
          "data": {
            "text/plain": [
              "array([[0],\n",
              "       [1],\n",
              "       [2],\n",
              "       [3],\n",
              "       [4],\n",
              "       [5],\n",
              "       [6],\n",
              "       [7],\n",
              "       [8],\n",
              "       [9]])"
            ]
          },
          "metadata": {},
          "execution_count": 24
        }
      ]
    },
    {
      "cell_type": "code",
      "metadata": {
        "colab": {
          "base_uri": "https://localhost:8080/"
        },
        "id": "QqFslZD-e4oC",
        "outputId": "7bcc5d66-d9f6-4efd-e316-0dc3da6f6fdb"
      },
      "source": [
        "array4 = array1.reshape(1, 10)\n",
        "array4"
      ],
      "execution_count": null,
      "outputs": [
        {
          "output_type": "execute_result",
          "data": {
            "text/plain": [
              "array([[0, 1, 2, 3, 4, 5, 6, 7, 8, 9]])"
            ]
          },
          "metadata": {},
          "execution_count": 26
        }
      ]
    },
    {
      "cell_type": "code",
      "metadata": {
        "colab": {
          "base_uri": "https://localhost:8080/"
        },
        "id": "JlBkrE77fONg",
        "outputId": "059e1312-b4bd-4d7f-9537-ada9335c837c"
      },
      "source": [
        "array1 = np.arange(10)\n",
        "print('array1 : \\n', array1)\n",
        "\n",
        "array2 = array1.reshape(-1,5)\n",
        "#print('array2 : \\n',array2)\n",
        "print('array2 shape :', array2.shape)\n",
        "\n",
        "array3 = array1.reshape(5,-1)\n",
        "print('array3 shape :', array3.shape)"
      ],
      "execution_count": null,
      "outputs": [
        {
          "output_type": "stream",
          "name": "stdout",
          "text": [
            "array1 : \n",
            " [0 1 2 3 4 5 6 7 8 9]\n",
            "array2 shape : (2, 5)\n",
            "array3 shape : (5, 2)\n"
          ]
        }
      ]
    },
    {
      "cell_type": "code",
      "metadata": {
        "colab": {
          "base_uri": "https://localhost:8080/"
        },
        "id": "VxcmzhbUjLsv",
        "outputId": "a3c53b07-b6fb-47e7-d205-b692fb0cf2dc"
      },
      "source": [
        "array1 = np.arange(8)\n",
        "array3d = array1.reshape(2, 2, 2)\n",
        "print('array3d:\\n', array3d.tolist())\n",
        "\n",
        "#3차원 ndarray를 2차원 ndarray로 변환\n",
        "array5 = array3d.reshape(-1,1)\n",
        "print('array5:\\n', array5.tolist())\n",
        "print('array5 shape:', array5.shape)\n",
        "\n",
        "#1차원 ndarray를 2차원 ndarray로 변환\n",
        "array6 = array1.reshape(-1,1)\n",
        "print('array6:\\n', array6.tolist())\n",
        "print('array6 shape:', array6.shape)"
      ],
      "execution_count": null,
      "outputs": [
        {
          "output_type": "stream",
          "name": "stdout",
          "text": [
            "array3d:\n",
            " [[[0, 1], [2, 3]], [[4, 5], [6, 7]]]\n",
            "array5:\n",
            " [[0], [1], [2], [3], [4], [5], [6], [7]]\n",
            "array5 shape: (8, 1)\n",
            "array6:\n",
            " [[0], [1], [2], [3], [4], [5], [6], [7]]\n",
            "array6 shape: (8, 1)\n"
          ]
        }
      ]
    },
    {
      "cell_type": "markdown",
      "metadata": {
        "id": "q6Kjq7rHnniu"
      },
      "source": [
        "#인덱싱"
      ]
    },
    {
      "cell_type": "code",
      "metadata": {
        "colab": {
          "base_uri": "https://localhost:8080/"
        },
        "id": "GPZlqc_flAnD",
        "outputId": "64c10f8b-fcfc-44df-b4b9-d0676853a407"
      },
      "source": [
        "arr = np.arange(start=1, stop=10)\n",
        "print('arr :', arr)\n",
        "\n",
        "val = arr[2]\n",
        "print('value : ', val, ',type: ',type(val))\n",
        "\n",
        "print('맨 뒤의 값:', arr[-1], ', 맨 뒤에서 두 번째 값 : ', arr[-2])"
      ],
      "execution_count": null,
      "outputs": [
        {
          "output_type": "stream",
          "name": "stdout",
          "text": [
            "arr : [1 2 3 4 5 6 7 8 9]\n",
            "value :  3 ,type:  <class 'numpy.int64'>\n",
            "맨 뒤의 값: 9 , 맨 뒤에서 두 번째 값 :  8\n"
          ]
        }
      ]
    },
    {
      "cell_type": "code",
      "metadata": {
        "colab": {
          "base_uri": "https://localhost:8080/"
        },
        "id": "wuRGABlan0Ga",
        "outputId": "74e9a68e-385b-43a7-c9b9-1464bd529133"
      },
      "source": [
        "#ndarray 값 수정\n",
        "arr[0] = 9\n",
        "arr[8] = 0\n",
        "print('arr : ', arr)"
      ],
      "execution_count": null,
      "outputs": [
        {
          "output_type": "stream",
          "name": "stdout",
          "text": [
            "arr :  [9 2 3 4 5 6 7 8 0]\n"
          ]
        }
      ]
    },
    {
      "cell_type": "code",
      "metadata": {
        "colab": {
          "base_uri": "https://localhost:8080/"
        },
        "id": "840v8dlFo8GQ",
        "outputId": "075576bf-ae9f-4a99-ce6c-957708d891dd"
      },
      "source": [
        "arr1d = np.arange(start=1, stop=10)\n",
        "arr2d = arr1d.reshape(3,3)\n",
        "print(arr2d)\n",
        "\n",
        "print('(row=0, col=0) index 가리키는 값:', arr2d[0, 0])\n",
        "print('(row=0, col=1) index 가리키는 값:', arr2d[0, 1])\n",
        "print('(row=1, col=0) index 가리키는 값:', arr2d[1, 0])\n",
        "print('(row=2, col=2) index 가리키는 값:', arr2d[2, 2])"
      ],
      "execution_count": null,
      "outputs": [
        {
          "output_type": "stream",
          "name": "stdout",
          "text": [
            "[[1 2 3]\n",
            " [4 5 6]\n",
            " [7 8 9]]\n",
            "(row=0, col=0) index 가리키는 값: 1\n",
            "(row=0, col=1) index 가리키는 값: 2\n",
            "(row=1, col=0) index 가리키는 값: 4\n",
            "(row=2, col=2) index 가리키는 값: 9\n"
          ]
        }
      ]
    },
    {
      "cell_type": "markdown",
      "metadata": {
        "id": "g0m2VRd6vptd"
      },
      "source": [
        "#슬라이싱"
      ]
    },
    {
      "cell_type": "code",
      "metadata": {
        "colab": {
          "base_uri": "https://localhost:8080/"
        },
        "id": "BTXuFBIZrBo8",
        "outputId": "5913e237-ca3f-4896-8964-7d27ca98e2d8"
      },
      "source": [
        "arr1 = np.arange(start=1, stop=10)\n",
        "arr3 = arr1[0:3]\n",
        "\n",
        "print(arr3)\n",
        "print(type(arr3))"
      ],
      "execution_count": null,
      "outputs": [
        {
          "output_type": "stream",
          "name": "stdout",
          "text": [
            "[1 2 3]\n",
            "<class 'numpy.ndarray'>\n"
          ]
        }
      ]
    },
    {
      "cell_type": "code",
      "metadata": {
        "colab": {
          "base_uri": "https://localhost:8080/"
        },
        "id": "uhtLZ-hZsjgS",
        "outputId": "7e099c28-e461-438d-99d8-3b88327ab42e"
      },
      "source": [
        "arr1 = np.arange(start=1, stop=10)\n",
        "arr4 = arr1[:3]\n",
        "print(arr4)\n",
        "\n",
        "arr5 = arr1[3:]\n",
        "print(arr5)\n",
        "\n",
        "arr6 = arr1[:]\n",
        "print(arr6)"
      ],
      "execution_count": null,
      "outputs": [
        {
          "output_type": "stream",
          "name": "stdout",
          "text": [
            "[1 2 3]\n",
            "[4 5 6 7 8 9]\n",
            "[1 2 3 4 5 6 7 8 9]\n"
          ]
        }
      ]
    },
    {
      "cell_type": "code",
      "metadata": {
        "colab": {
          "base_uri": "https://localhost:8080/"
        },
        "id": "NNMJa1yvs6Px",
        "outputId": "304bd604-62a7-4233-bc7b-7131b5d5fb42"
      },
      "source": [
        "arr1d = np.arange(start=1, stop=10)\n",
        "arr2d = arr1d.reshape(3, 3)\n",
        "print('arr2d: \\n', arr2d)\n",
        "\n",
        "print('arr2d[0:2, 0:2] \\n', arr2d[0:2, 0:2])\n",
        "print('arr2d[1:3, :] \\n', arr2d[1:3, :])\n",
        "print('arr2d[:, :]\\n', arr2d[:, :])\n",
        "print('arr2d[:2, 0] \\n', arr2d[:2, 0])"
      ],
      "execution_count": null,
      "outputs": [
        {
          "output_type": "stream",
          "name": "stdout",
          "text": [
            "arr2d: \n",
            " [[1 2 3]\n",
            " [4 5 6]\n",
            " [7 8 9]]\n",
            "arr2d[0:2, 0:2] \n",
            " [[1 2]\n",
            " [4 5]]\n",
            "arr2d[1:3, :] \n",
            " [[4 5 6]\n",
            " [7 8 9]]\n",
            "arr2d[:, :]\n",
            " [[1 2 3]\n",
            " [4 5 6]\n",
            " [7 8 9]]\n",
            "arr2d[:2, 0] \n",
            " [1 4]\n"
          ]
        }
      ]
    },
    {
      "cell_type": "code",
      "metadata": {
        "colab": {
          "base_uri": "https://localhost:8080/"
        },
        "id": "bue46_Iyt-Iy",
        "outputId": "c3d5d729-b268-4a7e-9df8-8539e003b700"
      },
      "source": [
        "print(arr2d[0])\n",
        "print(arr2d[0].shape)"
      ],
      "execution_count": null,
      "outputs": [
        {
          "output_type": "stream",
          "name": "stdout",
          "text": [
            "[1 2 3]\n",
            "(3,)\n"
          ]
        }
      ]
    },
    {
      "cell_type": "code",
      "metadata": {
        "colab": {
          "base_uri": "https://localhost:8080/"
        },
        "id": "AcTFmKhvupMD",
        "outputId": "09dfa4d3-122c-47e3-8533-2a6646390325"
      },
      "source": [
        "print(arr2d[1])\n",
        "print(arr2d[1].shape)"
      ],
      "execution_count": null,
      "outputs": [
        {
          "output_type": "stream",
          "name": "stdout",
          "text": [
            "[4 5 6]\n",
            "(3,)\n"
          ]
        }
      ]
    },
    {
      "cell_type": "markdown",
      "metadata": {
        "id": "RYl9uHX-vteS"
      },
      "source": [
        "# 팬시 인덱싱"
      ]
    },
    {
      "cell_type": "code",
      "metadata": {
        "colab": {
          "base_uri": "https://localhost:8080/"
        },
        "id": "OMDP4Tl4usfl",
        "outputId": "6760d349-6d35-41ba-8b83-55d5179f3b1b"
      },
      "source": [
        "arr1d = np.arange(start=1, stop=10)\n",
        "arr2d = arr1d.reshape(3, 3)\n",
        "print('arr2d : \\n', arr2d)\n",
        "\n",
        "arr3 = arr2d[[0,1], 2]\n",
        "print(arr3)"
      ],
      "execution_count": null,
      "outputs": [
        {
          "output_type": "stream",
          "name": "stdout",
          "text": [
            "arr2d : \n",
            " [[1 2 3]\n",
            " [4 5 6]\n",
            " [7 8 9]]\n",
            "[3 6]\n"
          ]
        }
      ]
    },
    {
      "cell_type": "code",
      "metadata": {
        "colab": {
          "base_uri": "https://localhost:8080/"
        },
        "id": "ooIYfUm-wMSY",
        "outputId": "f11e3abe-c2fe-4583-8c4f-b7d4bee84abe"
      },
      "source": [
        "arr4 = arr2d[[0,2], 1]\n",
        "print(arr4)"
      ],
      "execution_count": null,
      "outputs": [
        {
          "output_type": "stream",
          "name": "stdout",
          "text": [
            "[2 8]\n"
          ]
        }
      ]
    },
    {
      "cell_type": "code",
      "metadata": {
        "colab": {
          "base_uri": "https://localhost:8080/"
        },
        "id": "G5Qsy3IBwSwj",
        "outputId": "1bba089f-df94-452d-9f6f-61e141a0746e"
      },
      "source": [
        "arr5 = arr2d[[0, 1]]\n",
        "print(arr5)"
      ],
      "execution_count": null,
      "outputs": [
        {
          "output_type": "stream",
          "name": "stdout",
          "text": [
            "[[1 2 3]\n",
            " [4 5 6]]\n"
          ]
        }
      ]
    },
    {
      "cell_type": "markdown",
      "metadata": {
        "id": "qSk3EH8-w2hT"
      },
      "source": [
        "# 불린 인덱싱"
      ]
    },
    {
      "cell_type": "code",
      "metadata": {
        "colab": {
          "base_uri": "https://localhost:8080/"
        },
        "id": "6rvqPAtpwtoi",
        "outputId": "51cf8206-891c-4dab-ae88-7f045550cb67"
      },
      "source": [
        "arr1d = np.arange(start=1, stop=10)\n",
        "arr3 = arr1d[arr1d > 5]\n",
        "arr3"
      ],
      "execution_count": null,
      "outputs": [
        {
          "output_type": "execute_result",
          "data": {
            "text/plain": [
              "array([6, 7, 8, 9])"
            ]
          },
          "metadata": {},
          "execution_count": 64
        }
      ]
    },
    {
      "cell_type": "code",
      "metadata": {
        "colab": {
          "base_uri": "https://localhost:8080/"
        },
        "id": "4ZxhDOBozfvF",
        "outputId": "dbd9b20e-7655-405e-b3f3-517fd3c50f17"
      },
      "source": [
        "arr1d > 5"
      ],
      "execution_count": null,
      "outputs": [
        {
          "output_type": "execute_result",
          "data": {
            "text/plain": [
              "array([False, False, False, False, False,  True,  True,  True,  True])"
            ]
          },
          "metadata": {},
          "execution_count": 65
        }
      ]
    },
    {
      "cell_type": "code",
      "metadata": {
        "colab": {
          "base_uri": "https://localhost:8080/"
        },
        "id": "DL_tLTVFzmGS",
        "outputId": "1fa5280b-a267-4e23-a068-d8c04e29d82f"
      },
      "source": [
        "boolean_indexes = np.array([False, False, False, False, False,  True,  True,  True,  True])\n",
        "arr4 = arr1d[boolean_indexes]\n",
        "arr4"
      ],
      "execution_count": null,
      "outputs": [
        {
          "output_type": "execute_result",
          "data": {
            "text/plain": [
              "array([6, 7, 8, 9])"
            ]
          },
          "metadata": {},
          "execution_count": 67
        }
      ]
    },
    {
      "cell_type": "code",
      "metadata": {
        "colab": {
          "base_uri": "https://localhost:8080/"
        },
        "id": "gMdQ-86Oz5tg",
        "outputId": "a3209a04-9b0b-4da0-ccba-9842d3941fcd"
      },
      "source": [
        "indexes = np.array([5, 6, 7, 8])\n",
        "arr5 = arr1d[indexes]\n",
        "arr5"
      ],
      "execution_count": null,
      "outputs": [
        {
          "output_type": "execute_result",
          "data": {
            "text/plain": [
              "array([6, 7, 8, 9])"
            ]
          },
          "metadata": {},
          "execution_count": 68
        }
      ]
    },
    {
      "cell_type": "markdown",
      "metadata": {
        "id": "fPPGVkS50aWj"
      },
      "source": [
        "#행렬의 정렬"
      ]
    },
    {
      "cell_type": "code",
      "metadata": {
        "colab": {
          "base_uri": "https://localhost:8080/"
        },
        "id": "BU8gGKAE0E7u",
        "outputId": "9061def1-1dc7-437b-dcee-09742a89df23"
      },
      "source": [
        "org = np.array([3, 1, 9, 5])\n",
        "print('원본 : ', org)\n",
        "\n",
        "#np.sort()로 정렬\n",
        "sort1 = np.sort(org)\n",
        "print('np.sort() 호출 후 반환된 정렬 행렬 : ', sort1)\n",
        "print('np.sort() 호출 후 원본 행렬 : ', org)\n",
        "\n",
        "#ndarray.sort()로 정렬\n",
        "sort2 = org.sort()\n",
        "print('org.sort() 호출 후 반환된 행렬 : ', sort2)\n",
        "print('org.sort() 호출 후 원본 행렬 : ', org)"
      ],
      "execution_count": null,
      "outputs": [
        {
          "output_type": "stream",
          "name": "stdout",
          "text": [
            "원본 :  [3 1 9 5]\n",
            "np.sort() 호출 후 반환된 정렬 행렬 :  [1 3 5 9]\n",
            "np.sort() 호출 후 원본 행렬 :  [3 1 9 5]\n",
            "org.sort() 호출 후 반환된 행렬 :  None\n",
            "org.sort() 호출 후 원본 행렬 :  [1 3 5 9]\n"
          ]
        }
      ]
    },
    {
      "cell_type": "code",
      "metadata": {
        "colab": {
          "base_uri": "https://localhost:8080/"
        },
        "id": "C0vqv5UC2YdM",
        "outputId": "b29a1cd2-0b25-4c58-b336-13bdd2a0ac93"
      },
      "source": [
        "#기본이 오름차순이지만 내림차순으로 정렬하는 방법\n",
        "\n",
        "sort_dec = np.sort(org)[::-1]\n",
        "print('내림차순으로 정렬 : ', sort_dec)"
      ],
      "execution_count": null,
      "outputs": [
        {
          "output_type": "stream",
          "name": "stdout",
          "text": [
            "내림차순으로 정렬 :  [9 5 3 1]\n"
          ]
        }
      ]
    },
    {
      "cell_type": "code",
      "metadata": {
        "colab": {
          "base_uri": "https://localhost:8080/"
        },
        "id": "uhAZT3s93JnJ",
        "outputId": "f8ab66b6-b6c0-4dfb-f5be-d4d551a786d0"
      },
      "source": [
        "arr2d = np.array([[8, 12],\n",
        "                  [7, 1]])\n",
        "\n",
        "sort_axis0 = np.sort(arr2d, axis=0)\n",
        "print('로우 방향으로 정렬 : \\n', sort_axis0)\n",
        "\n",
        "sort_axis1 = np.sort(arr2d, axis=1)\n",
        "print('칼럼 방향으로 정렬 : \\n', sort_axis1)"
      ],
      "execution_count": null,
      "outputs": [
        {
          "output_type": "stream",
          "name": "stdout",
          "text": [
            "로우 방향으로 정렬 : \n",
            " [[ 7  1]\n",
            " [ 8 12]]\n",
            "칼럼 방향으로 정렬 : \n",
            " [[ 8 12]\n",
            " [ 1  7]]\n"
          ]
        }
      ]
    },
    {
      "cell_type": "code",
      "metadata": {
        "colab": {
          "base_uri": "https://localhost:8080/"
        },
        "id": "xnWdUxe33yXn",
        "outputId": "b82f0bb1-159e-41cb-96ce-8fa63e82d5f4"
      },
      "source": [
        "#np.argsort()를 이용해 원본 행렬의 정렬시 행렬 인덱스\n",
        "org = np.array([3, 1, 9, 5])\n",
        "sort_indices = np.argsort(org)\n",
        "\n",
        "print(type(sort_indices))\n",
        "print('원본 행렬의 정렬시 인덱스 : ', sort_indices)"
      ],
      "execution_count": null,
      "outputs": [
        {
          "output_type": "stream",
          "name": "stdout",
          "text": [
            "<class 'numpy.ndarray'>\n",
            "행렬 정렬 시 원본 행렬의 바뀐 인덱스 :  [1 0 3 2]\n"
          ]
        }
      ]
    },
    {
      "cell_type": "code",
      "metadata": {
        "colab": {
          "base_uri": "https://localhost:8080/"
        },
        "id": "qSaBX3Ru5jQA",
        "outputId": "6099a330-0fc1-4eff-fd00-6ece2eb3fb3c"
      },
      "source": [
        "org = np.array([3, 1, 9, 5])\n",
        "sort_indices_dec = np.argsort(org)[::-1]\n",
        "print('원본 행렬의 내림차순 정렬시 인덱스 : ', sort_indices_dec)"
      ],
      "execution_count": null,
      "outputs": [
        {
          "output_type": "stream",
          "name": "stdout",
          "text": [
            "원본 행렬의 내림차순 정렬시 인덱스 :  [2 3 0 1]\n"
          ]
        }
      ]
    },
    {
      "cell_type": "code",
      "metadata": {
        "colab": {
          "base_uri": "https://localhost:8080/"
        },
        "id": "VRoasT887LDr",
        "outputId": "7a7db2c1-939e-47bb-8ec4-2e5c35f33b45"
      },
      "source": [
        "#응용\n",
        "\n",
        "name_arr = np.array(['John', 'Mike', 'Sarah', 'Kate', 'Samuel'])\n",
        "score_arr = np.array([78, 95,84, 98, 88])\n",
        "\n",
        "sort_indices_asc = np.argsort(score_arr)\n",
        "print('성적 오름차순 정렬 시 score_arr의 인덱스 : ', sort_indices_asc)\n",
        "print('성적 오름차순으로 name_arr의 이름 출력', name_arr[sort_indices_asc])"
      ],
      "execution_count": null,
      "outputs": [
        {
          "output_type": "stream",
          "name": "stdout",
          "text": [
            "성적 오름차순 정렬 시 score_arr의 인덱스 :  [0 2 4 1 3]\n",
            "성적 오름차순으로 name_arr의 이름 출력 ['John' 'Sarah' 'Samuel' 'Mike' 'Kate']\n"
          ]
        }
      ]
    },
    {
      "cell_type": "markdown",
      "metadata": {
        "id": "p__XGaXv8DFI"
      },
      "source": [
        "# 행렬 내적과 전치 행렬 구하기"
      ]
    },
    {
      "cell_type": "code",
      "metadata": {
        "colab": {
          "base_uri": "https://localhost:8080/"
        },
        "id": "ZvAasqwo74cg",
        "outputId": "33725c6e-114b-488c-aca1-6eaef8accdc2"
      },
      "source": [
        "A = np.array([[1, 2, 3],\n",
        "              [4, 5, 6]])\n",
        "\n",
        "B = np.array([[7, 8],\n",
        "              [9, 10],\n",
        "              [11, 12]])\n",
        "np.dot(A, B)"
      ],
      "execution_count": null,
      "outputs": [
        {
          "output_type": "execute_result",
          "data": {
            "text/plain": [
              "array([[ 58,  64],\n",
              "       [139, 154]])"
            ]
          },
          "metadata": {},
          "execution_count": 77
        }
      ]
    },
    {
      "cell_type": "code",
      "metadata": {
        "colab": {
          "base_uri": "https://localhost:8080/"
        },
        "id": "AcEqKT8U8aVE",
        "outputId": "2d62f8a7-d5f8-4f9a-dd10-bd5cfd0b16cd"
      },
      "source": [
        "A = np.array([[1, 2],\n",
        "              [3, 4]])\n",
        "\n",
        "np.transpose(A)"
      ],
      "execution_count": null,
      "outputs": [
        {
          "output_type": "execute_result",
          "data": {
            "text/plain": [
              "array([[1, 3],\n",
              "       [2, 4]])"
            ]
          },
          "metadata": {},
          "execution_count": 78
        }
      ]
    },
    {
      "cell_type": "code",
      "metadata": {
        "id": "IQVG9X1q8jQr"
      },
      "source": [
        ""
      ],
      "execution_count": null,
      "outputs": []
    }
  ]
}